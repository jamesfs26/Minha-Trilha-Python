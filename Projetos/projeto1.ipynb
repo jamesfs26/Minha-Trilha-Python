{
 "cells": [
  {
   "cell_type": "markdown",
   "metadata": {},
   "source": [
    "# Semana do Python na Prática"
   ]
  },
  {
   "cell_type": "code",
   "execution_count": null,
   "metadata": {},
   "outputs": [],
   "source": [
    "projeto = \"Semana do Python na prática\""
   ]
  },
  {
   "cell_type": "markdown",
   "metadata": {},
   "source": [
    "##### Mostrando informações para o usuário"
   ]
  },
  {
   "cell_type": "code",
   "execution_count": 1,
   "metadata": {},
   "outputs": [
    {
     "name": "stdout",
     "output_type": "stream",
     "text": [
      "Semana do Python na prática\n",
      "Eu quero aprender Python de verdade!\n"
     ]
    }
   ],
   "source": [
    "print(\"Semana do Python na prática\")\n",
    "print(\"Eu quero aprender Python de verdade!\")"
   ]
  },
  {
   "cell_type": "markdown",
   "metadata": {},
   "source": [
    "#### Receber dados do usuário"
   ]
  },
  {
   "cell_type": "code",
   "execution_count": 3,
   "metadata": {},
   "outputs": [
    {
     "data": {
      "text/plain": [
       "'Python'"
      ]
     },
     "execution_count": 3,
     "metadata": {},
     "output_type": "execute_result"
    }
   ],
   "source": [
    "input(\"Digite seu nome: \")\n",
    "input(\"Qual a melhor linguagem de programação do mundo? \")"
   ]
  },
  {
   "cell_type": "markdown",
   "metadata": {},
   "source": [
    "#### Armazenando Dados em variáveis\n",
    "* Case Sensitive\n",
    "* Use nomes que façam sentido\n",
    "* Não pode começar com números\n",
    "* Não pode conter espaços em branco"
   ]
  },
  {
   "cell_type": "code",
   "execution_count": null,
   "metadata": {},
   "outputs": [],
   "source": [
    "Projeto = \"Sistema Python\"\n",
    "numero = 10"
   ]
  },
  {
   "cell_type": "markdown",
   "metadata": {},
   "source": [
    "#### Mesclando todos os conceitos aprendidos"
   ]
  },
  {
   "cell_type": "code",
   "execution_count": 2,
   "metadata": {},
   "outputs": [],
   "source": [
    "projeto = input(\"Digite a descrição do projeto: \")\n",
    "horas_previstas = input (\"Digite a quantidade de horas previstas: \")\n",
    "valor_hora = input(\"Digite o valor da hora trabalhada: \")\n",
    "prazo = input(\"Digite o prazo estimado: \")\n"
   ]
  },
  {
   "cell_type": "code",
   "execution_count": 3,
   "metadata": {},
   "outputs": [
    {
     "name": "stdout",
     "output_type": "stream",
     "text": [
      "Python\n",
      "100 horas gastas\n",
      "80 reais\n",
      "5 meses de duração\n"
     ]
    }
   ],
   "source": [
    "print(projeto)\n",
    "print(horas_previstas + \" horas gastas\")\n",
    "print(valor_hora + \" reais\")\n",
    "print(prazo + \" meses de duração\")\n"
   ]
  },
  {
   "cell_type": "markdown",
   "metadata": {},
   "source": [
    "#### Tipos de Dados\n",
    "\n",
    "* Textos: \"str\" (string)\n",
    "* Números: = \"int\" (inteiros)\n",
    "* Comando: \"type()\" (tipo)"
   ]
  },
  {
   "cell_type": "code",
   "execution_count": 5,
   "metadata": {},
   "outputs": [
    {
     "data": {
      "text/plain": [
       "int"
      ]
     },
     "execution_count": 5,
     "metadata": {},
     "output_type": "execute_result"
    }
   ],
   "source": [
    "\n"
   ]
  },
  {
   "cell_type": "markdown",
   "metadata": {},
   "source": [
    "#### Conversão de Tipos\n",
    "\n",
    "* Para converter um tipo em outro basta fazer a ligação do tipo com a variável!\n",
    "* Ex:\n",
    "variavel = 50\n",
    "* str (variavel)\n",
    "* \"50\" (o valor virou string)."
   ]
  },
  {
   "cell_type": "code",
   "execution_count": 4,
   "metadata": {},
   "outputs": [
    {
     "data": {
      "text/plain": [
       "'100.5'"
      ]
     },
     "execution_count": 4,
     "metadata": {},
     "output_type": "execute_result"
    }
   ],
   "source": [
    "valor = 100.50\n",
    "nome = \"joão\"\n",
    "dado = 50\n",
    "\n",
    "str(valor)"
   ]
  },
  {
   "cell_type": "markdown",
   "metadata": {},
   "source": [
    "#### Cálculos no Python\n",
    "\n",
    "* Adição +\n",
    "* Subtração -\n",
    "* Multiplicação *\n",
    "* Divisão /\n"
   ]
  },
  {
   "cell_type": "code",
   "execution_count": 5,
   "metadata": {},
   "outputs": [
    {
     "name": "stdout",
     "output_type": "stream",
     "text": [
      "20\n",
      "30\n",
      "30\n",
      "5.0\n",
      "0\n"
     ]
    }
   ],
   "source": [
    "soma = 10 + 10\n",
    "subtracao = 35 - 5\n",
    "multiplicacao = 3 * 10\n",
    "divisao = 50 / 10\n",
    "modulo = 20 % 2 \n",
    "\n",
    "print(soma)\n",
    "print(subtracao)\n",
    "print(multiplicacao)\n",
    "print(divisao)\n",
    "print(modulo)"
   ]
  },
  {
   "cell_type": "markdown",
   "metadata": {},
   "source": [
    "#### Calculando o Valor Total do Projeto\n",
    "\n",
    "* Para converter e multiplicar 2 valores do tipo 'str', é necessário acrescentar o 'int' em cada valor fechado em seu parêntese"
   ]
  },
  {
   "cell_type": "code",
   "execution_count": 6,
   "metadata": {},
   "outputs": [],
   "source": [
    "\n",
    "valor_Total = int(horas_previstas) * int(valor_hora)"
   ]
  }
 ],
 "metadata": {
  "kernelspec": {
   "display_name": "Python 3",
   "language": "python",
   "name": "python3"
  },
  "language_info": {
   "codemirror_mode": {
    "name": "ipython",
    "version": 3
   },
   "file_extension": ".py",
   "mimetype": "text/x-python",
   "name": "python",
   "nbconvert_exporter": "python",
   "pygments_lexer": "ipython3",
   "version": "3.12.3"
  }
 },
 "nbformat": 4,
 "nbformat_minor": 2
}
